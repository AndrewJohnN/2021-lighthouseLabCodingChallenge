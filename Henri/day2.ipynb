{
 "metadata": {
  "language_info": {
   "codemirror_mode": {
    "name": "ipython",
    "version": 3
   },
   "file_extension": ".py",
   "mimetype": "text/x-python",
   "name": "python",
   "nbconvert_exporter": "python",
   "pygments_lexer": "ipython3",
   "version": "3.8.5"
  },
  "orig_nbformat": 2,
  "kernelspec": {
   "name": "python38564bitnnscrapercondaa354d8fb32614818906b42d96b0e4fbd",
   "display_name": "Python 3.8.5 64-bit ('NNScraper': conda)",
   "language": "python"
  }
 },
 "nbformat": 4,
 "nbformat_minor": 2,
 "cells": [
  {
   "source": [
    "### Challenge¶\n",
    "\n",
    "Dot has a few lists you can use as reference: their grocery list, the prices they used to pay in the city, and the prices for the rural grocer. What is the price difference between groceries in the city vs. groceries in the country, as a percentage of country prices?\n",
    "\n",
    "Note: The index position for each item is consistent across all three lists.\n"
   ],
   "cell_type": "markdown",
   "metadata": {}
  },
  {
   "cell_type": "code",
   "execution_count": 13,
   "metadata": {},
   "outputs": [],
   "source": [
    "# not the actual values\n",
    "grocery_list = ['banana','apple',\"Papa John's pizza\",\"A spicy meatball\"]\n",
    "city_price = [1, 2,69,4]\n",
    "country_price = [ 0.1,2,420,.4]"
   ]
  },
  {
   "cell_type": "code",
   "execution_count": 14,
   "metadata": {},
   "outputs": [
    {
     "output_type": "stream",
     "name": "stdout",
     "text": [
      "banana, city price 1, country price 0.1 difference %900.0\napple, city price 2, country price 2 difference %0.0\nPapa John's pizza, city price 69, country price 420 difference %-83.57\nA spicy meatball, city price 4, country price 0.4 difference %900.0\n"
     ]
    }
   ],
   "source": [
    "#  neat display function\n",
    "for item,citP,countP in zip(grocery_list,city_price,country_price):\n",
    "    print(f'{item}, city price {citP}, country price {countP} difference %{round((citP-countP)/countP,4)*100}')"
   ]
  },
  {
   "cell_type": "code",
   "execution_count": 15,
   "metadata": {},
   "outputs": [
    {
     "output_type": "execute_result",
     "data": {
      "text/plain": [
       "-0.8201"
      ]
     },
     "metadata": {},
     "execution_count": 15
    }
   ],
   "source": [
    "# real answer\n",
    "round((sum(city_price)-sum(country_price))/sum(country_price),4)"
   ]
  }
 ]
}