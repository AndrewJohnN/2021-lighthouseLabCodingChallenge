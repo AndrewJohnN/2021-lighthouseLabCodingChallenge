{
 "metadata": {
  "language_info": {
   "codemirror_mode": {
    "name": "ipython",
    "version": 3
   },
   "file_extension": ".py",
   "mimetype": "text/x-python",
   "name": "python",
   "nbconvert_exporter": "python",
   "pygments_lexer": "ipython3",
   "version": "3.8.5"
  },
  "orig_nbformat": 2,
  "kernelspec": {
   "name": "python38564bitnnscrapercondaa354d8fb32614818906b42d96b0e4fbd",
   "display_name": "Python 3.8.5 64-bit ('NNScraper': conda)",
   "language": "python"
  }
 },
 "nbformat": 4,
 "nbformat_minor": 2,
 "cells": [
  {
   "source": [
    "### Day Two: math with Python\n",
    "\n",
    "Life outside of the city sure is different. The costs of everyday things are different, too. Dot took a trip to the tiny grocer in the nearby town to stock up on essentials for the next few weeks. But the prices here sure are different than in the city!\n",
    "\n",
    "Dot needs to start paying more attention to finances if they’re going to do well out here. Can you help them figure out how much their grocery haul is going to cost?"
   ],
   "cell_type": "markdown",
   "metadata": {}
  },
  {
   "source": [
    "Tutorial:\n",
    "\n",
    "Numbers\n",
    "\n",
    "There are two main numeric data types in Python, integers and float.\n",
    "\n",
    "The integer data types refer to whole numbers, while float data types refer to any numeric value that isn't a whole, like a fraction or a decimal.\n",
    "\n",
    "In Python as well as any other programming language, there are a variety of math operations you can use to do basic arithmetic.\n",
    "\n",
    "To learn more about numbers in Python, take a look at these articles here and here.\n",
    "\n",
    "In Python, lists are a type of variable that can be sequenced. Lists can contain many items that can be indexed by integers, with items being kept separate by the ','.\n",
    "\n",
    "list = [] #lists are called using the square brackets\n",
    "\n",
    "list_of_int = [1,2,3,4,5] #list of integers\n",
    "list_of_string = ['string1','string2', 'string3'] #list of strings\n",
    "list_of_anything = [1, 'string', 3.2] #list with an integer, string, and float.\n",
    "\n",
    "To learn more about lists, check out this article here.\n"
   ],
   "cell_type": "markdown",
   "metadata": {}
  },
  {
   "source": [
    "### Challenge¶\n",
    "\n",
    "Dot has a few lists you can use as reference: their grocery list, the prices they used to pay in the city, and the prices for the rural grocer. What is the price difference between groceries in the city vs. groceries in the country, as a percentage of country prices?\n",
    "\n",
    "Note: The index position for each item is consistent across all three lists.\n"
   ],
   "cell_type": "markdown",
   "metadata": {}
  },
  {
   "cell_type": "code",
   "execution_count": 13,
   "metadata": {},
   "outputs": [],
   "source": [
    "# not the actual values\n",
    "grocery_list = ['banana','apple',\"Papa John's pizza\",\"A spicy meatball\"]\n",
    "city_price = [1, 2,69,4]\n",
    "country_price = [ 0.1,2,420,.4]"
   ]
  },
  {
   "cell_type": "code",
   "execution_count": 14,
   "metadata": {},
   "outputs": [
    {
     "output_type": "stream",
     "name": "stdout",
     "text": [
      "banana, city price 1, country price 0.1 difference %900.0\napple, city price 2, country price 2 difference %0.0\nPapa John's pizza, city price 69, country price 420 difference %-83.57\nA spicy meatball, city price 4, country price 0.4 difference %900.0\n"
     ]
    }
   ],
   "source": [
    "#  neat display function\n",
    "for item,citP,countP in zip(grocery_list,city_price,country_price):\n",
    "    print(f'{item}, city price {citP}, country price {countP} difference %{round((citP-countP)/countP,4)*100}')"
   ]
  },
  {
   "cell_type": "code",
   "execution_count": 15,
   "metadata": {},
   "outputs": [
    {
     "output_type": "execute_result",
     "data": {
      "text/plain": [
       "-0.8201"
      ]
     },
     "metadata": {},
     "execution_count": 15
    }
   ],
   "source": [
    "# real answer\n",
    "round((sum(city_price)-sum(country_price))/sum(country_price),4)"
   ]
  }
 ]
}