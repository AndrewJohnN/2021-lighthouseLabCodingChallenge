{
 "metadata": {
  "language_info": {
   "codemirror_mode": {
    "name": "ipython",
    "version": 3
   },
   "file_extension": ".py",
   "mimetype": "text/x-python",
   "name": "python",
   "nbconvert_exporter": "python",
   "pygments_lexer": "ipython3",
   "version": "3.8.5"
  },
  "orig_nbformat": 2,
  "kernelspec": {
   "name": "python38564bitnnscrapercondaa354d8fb32614818906b42d96b0e4fbd",
   "display_name": "Python 3.8.5 64-bit ('NNScraper': conda)",
   "language": "python"
  }
 },
 "nbformat": 4,
 "nbformat_minor": 2,
 "cells": [
  {
   "source": [
    "bChallenge\n",
    "\n",
    "Dot has some specific rules for what they want to change in the shopping list:\n",
    "\n",
    "    They hate oak wood, and prefer maple.\n",
    "    They want to paint all the rooms blue except the kitchen, which they want to paint white.\n",
    "```\n",
    "old_blueprint = {\n",
    "    \"Kitchen\": ['Dirty', 'Oak', \"Damaged\", \"Green\"],\n",
    "    \"Dining Room\": ['Dirty', 'Pine', 'Good Condition', 'Grey'],\n",
    "    \"Living Room\": ['Dirty', 'Oak', 'Damaged', 'Red'],\n",
    "    \"Bedroom\" : [\"Clean\", 'Mahogany', 'Good Condition', 'Green'],\n",
    "    \"Bathroom\": [\"Dirty\", 'White Tile', 'Good Condition','White'],\n",
    "    \"Shed\"    : ['Dirty', \"Cherry\", \"Damaged\", \"Un-painted\"]\n",
    "}\n",
    "\n",
    "shopping_list = ['20 x Oak Plank', '20 x Oak Plank', '20 x Cherry Plank', 'White Paint', 'White Paint', 'White Paint']\n",
    "```\n",
    "Note: The blueprint above is in a dictionary format and we won't be needing to work with dictionaries in the challenge, use the blueprint as reference only.\n",
    "\n",
    "Use python's pop(), insert(), and append() list functions to change the shopping_list above so that it reflects the right materials needed.\n",
    "\n",
    "The list should be ordered by wood types first, then paint types.\n",
    "\n",
    "example_shopping_list = ['wood type in room A', 'wood type in room b','paint type in room a','paint type in room b']\n",
    "\n",
    "Create a paint_list list from the new_shopping_list list using the built in python list indexing ability.\n"
   ],
   "cell_type": "markdown",
   "metadata": {}
  },
  {
   "cell_type": "code",
   "execution_count": 2,
   "metadata": {},
   "outputs": [
    {
     "output_type": "stream",
     "name": "stdout",
     "text": [
      "['Maple Plank', 'Maple Plank', 'Maple Plank', 'White Paint', 'Blue Paint', 'Blue Paint', 'Blue Paint', 'Blue Paint', 'Blue Paint']\n['White Paint', 'Blue Paint', 'Blue Paint', 'Blue Paint', 'Blue Paint', 'Blue Paint']\n"
     ]
    }
   ],
   "source": [
    "# honestly the question was a dumpster fire\n",
    "old_blueprint = {\n",
    "    \"Kitchen\": ['Dirty', 'Oak', \"Damaged\", \"Green\"],\n",
    "    \"Dining Room\": ['Dirty', 'Pine', 'Good Condition', 'Grey'],\n",
    "    \"Living Room\": ['Dirty', 'Oak', 'Damaged', 'Red'],\n",
    "    \"Bedroom\" : [\"Clean\", 'Mahogany', 'Good Condition', 'Green'],\n",
    "    \"Bathroom\": [\"Dirty\", 'White Tile', 'Good Condition','White'],\n",
    "    \"Shed\"    : ['Dirty', \"Cherry\", \"Damaged\", \"Un-painted\"]\n",
    "}\n",
    "\n",
    "# make an empty shopping list\n",
    "new_shopping_list = []\n",
    "\n",
    "# let's add planks to our shopping list\n",
    "for room in old_blueprint:\n",
    "    wood = old_blueprint[room][1]\n",
    "    condition = old_blueprint[room][2]\n",
    "    \n",
    "    # use Dot's rules to determine if the wood needs to be replaced.\n",
    "    if wood == 'Oak' or condition == 'Damaged':\n",
    "        new_shopping_list.append('Maple Plank')\n",
    "\n",
    "# Now, let's add paint to our shopping list\n",
    "for room in old_blueprint:\n",
    "    wood = old_blueprint[room][1]\n",
    "    condition = old_blueprint[room][2]\n",
    "    color = old_blueprint[room][3]\n",
    "    \n",
    "    # use Dot's rules to determine if the paint needs to be replaced\n",
    "    if room == 'Kitchen':\n",
    "        if wood == 'Oak' or condition == 'Damaged' or color != 'White':\n",
    "            new_shopping_list.append('White Paint')\n",
    "    if room != 'Kitchen':\n",
    "        if wood == 'Oak' or condition == 'Damaged' or color != 'Blue':\n",
    "            new_shopping_list.append('Blue Paint')\n",
    "            \n",
    "# Let's look at our current shopping list now\n",
    "print(new_shopping_list)\n",
    "\n",
    "# Try the multiple choice answers here to see which one gives the correct result\n",
    "paint_list = new_shopping_list[3:]\n",
    "print(paint_list)\n"
   ]
  },
  {
   "cell_type": "code",
   "execution_count": null,
   "metadata": {},
   "outputs": [],
   "source": []
  }
 ]
}