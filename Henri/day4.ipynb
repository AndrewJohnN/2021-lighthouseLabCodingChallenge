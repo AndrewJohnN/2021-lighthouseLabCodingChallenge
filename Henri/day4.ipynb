{
 "metadata": {
  "language_info": {
   "codemirror_mode": {
    "name": "ipython",
    "version": 3
   },
   "file_extension": ".py",
   "mimetype": "text/x-python",
   "name": "python",
   "nbconvert_exporter": "python",
   "pygments_lexer": "ipython3",
   "version": "3.8.5-final"
  },
  "orig_nbformat": 2,
  "kernelspec": {
   "name": "python38564bitnnscrapercondaa354d8fb32614818906b42d96b0e4fbd",
   "display_name": "Python 3.8.5 64-bit ('NNScraper': conda)",
   "language": "python"
  }
 },
 "nbformat": 4,
 "nbformat_minor": 2,
 "cells": [
  {
   "cell_type": "code",
   "execution_count": 2,
   "metadata": {},
   "outputs": [],
   "source": [
    "item_list = ['Oak Wood','Blue Paint','White Paint','Paint Finish']\n",
    "amount_list = [600,150,15,165]\n",
    "wholesale_price_list = [7000,1000,1000,800]\n",
    "retail_price = [12.99,8.99,9.99,3.99]"
   ]
  },
  {
   "cell_type": "code",
   "execution_count": 3,
   "metadata": {},
   "outputs": [],
   "source": [
    "WholesaleOrNO = dict()\n",
    "for i in range(len(item_list)):\n",
    "    if amount_list[i]*retail_price[i] < wholesale_price_list[i]:\n",
    "        WholesaleOrNO[item_list[i]] = 'no'\n",
    "    else:\n",
    "        WholesaleOrNO[item_list[i]] = 'yes'\n"
   ]
  },
  {
   "cell_type": "code",
   "execution_count": 4,
   "metadata": {},
   "outputs": [
    {
     "output_type": "execute_result",
     "data": {
      "text/plain": [
       "{'Oak Wood': 'yes',\n",
       " 'Blue Paint': 'yes',\n",
       " 'White Paint': 'no',\n",
       " 'Paint Finish': 'no'}"
      ]
     },
     "metadata": {},
     "execution_count": 4
    }
   ],
   "source": [
    "WholesaleOrNO"
   ]
  },
  {
   "cell_type": "code",
   "execution_count": null,
   "metadata": {},
   "outputs": [],
   "source": []
  }
 ]
}